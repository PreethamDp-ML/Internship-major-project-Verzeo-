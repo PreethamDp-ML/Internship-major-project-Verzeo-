{
 "cells": [
  {
   "cell_type": "code",
   "execution_count": 242,
   "metadata": {},
   "outputs": [],
   "source": [
    "import numpy as np \n",
    "import pandas as pd\n",
    "from matplotlib import pyplot as plt\n",
    "import matplotlib.pyplot as plt\n",
    "import seaborn as sns\n",
    "%matplotlib inline"
   ]
  },
  {
   "cell_type": "code",
   "execution_count": 243,
   "metadata": {},
   "outputs": [],
   "source": [
    "df=pd.read_csv('Information.csv',encoding = \"ISO-8859-1\")"
   ]
  },
  {
   "cell_type": "code",
   "execution_count": 244,
   "metadata": {},
   "outputs": [
    {
     "data": {
      "text/html": [
       "<div>\n",
       "<style scoped>\n",
       "    .dataframe tbody tr th:only-of-type {\n",
       "        vertical-align: middle;\n",
       "    }\n",
       "\n",
       "    .dataframe tbody tr th {\n",
       "        vertical-align: top;\n",
       "    }\n",
       "\n",
       "    .dataframe thead th {\n",
       "        text-align: right;\n",
       "    }\n",
       "</style>\n",
       "<table border=\"1\" class=\"dataframe\">\n",
       "  <thead>\n",
       "    <tr style=\"text-align: right;\">\n",
       "      <th></th>\n",
       "      <th>_unit_id</th>\n",
       "      <th>_golden</th>\n",
       "      <th>_unit_state</th>\n",
       "      <th>_trusted_judgments</th>\n",
       "      <th>_last_judgment_at</th>\n",
       "      <th>gender</th>\n",
       "      <th>gender:confidence</th>\n",
       "      <th>profile_yn</th>\n",
       "      <th>profile_yn:confidence</th>\n",
       "      <th>created</th>\n",
       "      <th>...</th>\n",
       "      <th>profileimage</th>\n",
       "      <th>retweet_count</th>\n",
       "      <th>sidebar_color</th>\n",
       "      <th>text</th>\n",
       "      <th>tweet_coord</th>\n",
       "      <th>tweet_count</th>\n",
       "      <th>tweet_created</th>\n",
       "      <th>tweet_id</th>\n",
       "      <th>tweet_location</th>\n",
       "      <th>user_timezone</th>\n",
       "    </tr>\n",
       "  </thead>\n",
       "  <tbody>\n",
       "    <tr>\n",
       "      <th>0</th>\n",
       "      <td>815719226</td>\n",
       "      <td>False</td>\n",
       "      <td>finalized</td>\n",
       "      <td>3</td>\n",
       "      <td>10/26/15 23:24</td>\n",
       "      <td>male</td>\n",
       "      <td>1.0000</td>\n",
       "      <td>yes</td>\n",
       "      <td>1.0</td>\n",
       "      <td>12/5/13 1:48</td>\n",
       "      <td>...</td>\n",
       "      <td>https://pbs.twimg.com/profile_images/414342229...</td>\n",
       "      <td>0</td>\n",
       "      <td>FFFFFF</td>\n",
       "      <td>Robbie E Responds To Critics After Win Against...</td>\n",
       "      <td>NaN</td>\n",
       "      <td>110964</td>\n",
       "      <td>10/26/15 12:40</td>\n",
       "      <td>6.587300e+17</td>\n",
       "      <td>main; @Kan1shk3</td>\n",
       "      <td>Chennai</td>\n",
       "    </tr>\n",
       "    <tr>\n",
       "      <th>1</th>\n",
       "      <td>815719227</td>\n",
       "      <td>False</td>\n",
       "      <td>finalized</td>\n",
       "      <td>3</td>\n",
       "      <td>10/26/15 23:30</td>\n",
       "      <td>male</td>\n",
       "      <td>1.0000</td>\n",
       "      <td>yes</td>\n",
       "      <td>1.0</td>\n",
       "      <td>10/1/12 13:51</td>\n",
       "      <td>...</td>\n",
       "      <td>https://pbs.twimg.com/profile_images/539604221...</td>\n",
       "      <td>0</td>\n",
       "      <td>C0DEED</td>\n",
       "      <td>ÛÏIt felt like they were my friends and I was...</td>\n",
       "      <td>NaN</td>\n",
       "      <td>7471</td>\n",
       "      <td>10/26/15 12:40</td>\n",
       "      <td>6.587300e+17</td>\n",
       "      <td>NaN</td>\n",
       "      <td>Eastern Time (US &amp; Canada)</td>\n",
       "    </tr>\n",
       "    <tr>\n",
       "      <th>2</th>\n",
       "      <td>815719228</td>\n",
       "      <td>False</td>\n",
       "      <td>finalized</td>\n",
       "      <td>3</td>\n",
       "      <td>10/26/15 23:33</td>\n",
       "      <td>male</td>\n",
       "      <td>0.6625</td>\n",
       "      <td>yes</td>\n",
       "      <td>1.0</td>\n",
       "      <td>11/28/14 11:30</td>\n",
       "      <td>...</td>\n",
       "      <td>https://pbs.twimg.com/profile_images/657330418...</td>\n",
       "      <td>1</td>\n",
       "      <td>C0DEED</td>\n",
       "      <td>i absolutely adore when louis starts the songs...</td>\n",
       "      <td>NaN</td>\n",
       "      <td>5617</td>\n",
       "      <td>10/26/15 12:40</td>\n",
       "      <td>6.587300e+17</td>\n",
       "      <td>clcncl</td>\n",
       "      <td>Belgrade</td>\n",
       "    </tr>\n",
       "    <tr>\n",
       "      <th>3</th>\n",
       "      <td>815719229</td>\n",
       "      <td>False</td>\n",
       "      <td>finalized</td>\n",
       "      <td>3</td>\n",
       "      <td>10/26/15 23:10</td>\n",
       "      <td>male</td>\n",
       "      <td>1.0000</td>\n",
       "      <td>yes</td>\n",
       "      <td>1.0</td>\n",
       "      <td>6/11/09 22:39</td>\n",
       "      <td>...</td>\n",
       "      <td>https://pbs.twimg.com/profile_images/259703936...</td>\n",
       "      <td>0</td>\n",
       "      <td>C0DEED</td>\n",
       "      <td>Hi @JordanSpieth - Looking at the url - do you...</td>\n",
       "      <td>NaN</td>\n",
       "      <td>1693</td>\n",
       "      <td>10/26/15 12:40</td>\n",
       "      <td>6.587300e+17</td>\n",
       "      <td>Palo Alto, CA</td>\n",
       "      <td>Pacific Time (US &amp; Canada)</td>\n",
       "    </tr>\n",
       "    <tr>\n",
       "      <th>4</th>\n",
       "      <td>815719230</td>\n",
       "      <td>False</td>\n",
       "      <td>finalized</td>\n",
       "      <td>3</td>\n",
       "      <td>10/27/15 1:15</td>\n",
       "      <td>female</td>\n",
       "      <td>1.0000</td>\n",
       "      <td>yes</td>\n",
       "      <td>1.0</td>\n",
       "      <td>4/16/14 13:23</td>\n",
       "      <td>...</td>\n",
       "      <td>https://pbs.twimg.com/profile_images/564094871...</td>\n",
       "      <td>0</td>\n",
       "      <td>0</td>\n",
       "      <td>Watching Neighbours on Sky+ catching up with t...</td>\n",
       "      <td>NaN</td>\n",
       "      <td>31462</td>\n",
       "      <td>10/26/15 12:40</td>\n",
       "      <td>6.587300e+17</td>\n",
       "      <td>NaN</td>\n",
       "      <td>NaN</td>\n",
       "    </tr>\n",
       "    <tr>\n",
       "      <th>...</th>\n",
       "      <td>...</td>\n",
       "      <td>...</td>\n",
       "      <td>...</td>\n",
       "      <td>...</td>\n",
       "      <td>...</td>\n",
       "      <td>...</td>\n",
       "      <td>...</td>\n",
       "      <td>...</td>\n",
       "      <td>...</td>\n",
       "      <td>...</td>\n",
       "      <td>...</td>\n",
       "      <td>...</td>\n",
       "      <td>...</td>\n",
       "      <td>...</td>\n",
       "      <td>...</td>\n",
       "      <td>...</td>\n",
       "      <td>...</td>\n",
       "      <td>...</td>\n",
       "      <td>...</td>\n",
       "      <td>...</td>\n",
       "      <td>...</td>\n",
       "    </tr>\n",
       "    <tr>\n",
       "      <th>20045</th>\n",
       "      <td>815757572</td>\n",
       "      <td>True</td>\n",
       "      <td>golden</td>\n",
       "      <td>259</td>\n",
       "      <td>NaN</td>\n",
       "      <td>female</td>\n",
       "      <td>1.0000</td>\n",
       "      <td>yes</td>\n",
       "      <td>1.0</td>\n",
       "      <td>8/5/15 21:16</td>\n",
       "      <td>...</td>\n",
       "      <td>https://pbs.twimg.com/profile_images/656793310...</td>\n",
       "      <td>0</td>\n",
       "      <td>C0DEED</td>\n",
       "      <td>@lookupondeath ...Fine, and I'll drink tea too...</td>\n",
       "      <td>NaN</td>\n",
       "      <td>783</td>\n",
       "      <td>10/26/15 13:20</td>\n",
       "      <td>6.587400e+17</td>\n",
       "      <td>Verona ªÁ</td>\n",
       "      <td>NaN</td>\n",
       "    </tr>\n",
       "    <tr>\n",
       "      <th>20046</th>\n",
       "      <td>815757681</td>\n",
       "      <td>True</td>\n",
       "      <td>golden</td>\n",
       "      <td>248</td>\n",
       "      <td>NaN</td>\n",
       "      <td>male</td>\n",
       "      <td>1.0000</td>\n",
       "      <td>yes</td>\n",
       "      <td>1.0</td>\n",
       "      <td>8/15/12 21:17</td>\n",
       "      <td>...</td>\n",
       "      <td>https://pbs.twimg.com/profile_images/639815429...</td>\n",
       "      <td>0</td>\n",
       "      <td>0</td>\n",
       "      <td>Greg Hardy you a good player and all but don't...</td>\n",
       "      <td>NaN</td>\n",
       "      <td>13523</td>\n",
       "      <td>10/26/15 12:40</td>\n",
       "      <td>6.587300e+17</td>\n",
       "      <td>Kansas City, MO</td>\n",
       "      <td>NaN</td>\n",
       "    </tr>\n",
       "    <tr>\n",
       "      <th>20047</th>\n",
       "      <td>815757830</td>\n",
       "      <td>True</td>\n",
       "      <td>golden</td>\n",
       "      <td>264</td>\n",
       "      <td>NaN</td>\n",
       "      <td>male</td>\n",
       "      <td>1.0000</td>\n",
       "      <td>yes</td>\n",
       "      <td>1.0</td>\n",
       "      <td>9/3/12 1:17</td>\n",
       "      <td>...</td>\n",
       "      <td>https://pbs.twimg.com/profile_images/655473271...</td>\n",
       "      <td>0</td>\n",
       "      <td>C0DEED</td>\n",
       "      <td>You can miss people and still never want to se...</td>\n",
       "      <td>NaN</td>\n",
       "      <td>26419</td>\n",
       "      <td>10/26/15 13:20</td>\n",
       "      <td>6.587400e+17</td>\n",
       "      <td>Lagos Nigeria</td>\n",
       "      <td>NaN</td>\n",
       "    </tr>\n",
       "    <tr>\n",
       "      <th>20048</th>\n",
       "      <td>815757921</td>\n",
       "      <td>True</td>\n",
       "      <td>golden</td>\n",
       "      <td>250</td>\n",
       "      <td>NaN</td>\n",
       "      <td>female</td>\n",
       "      <td>0.8489</td>\n",
       "      <td>yes</td>\n",
       "      <td>1.0</td>\n",
       "      <td>11/6/12 23:46</td>\n",
       "      <td>...</td>\n",
       "      <td>https://pbs.twimg.com/profile_images/657716093...</td>\n",
       "      <td>0</td>\n",
       "      <td>0</td>\n",
       "      <td>@bitemyapp i had noticed your tendency to pee ...</td>\n",
       "      <td>NaN</td>\n",
       "      <td>56073</td>\n",
       "      <td>10/26/15 12:40</td>\n",
       "      <td>6.587300e+17</td>\n",
       "      <td>Texas Hill Country</td>\n",
       "      <td>NaN</td>\n",
       "    </tr>\n",
       "    <tr>\n",
       "      <th>20049</th>\n",
       "      <td>815757985</td>\n",
       "      <td>True</td>\n",
       "      <td>golden</td>\n",
       "      <td>249</td>\n",
       "      <td>NaN</td>\n",
       "      <td>female</td>\n",
       "      <td>1.0000</td>\n",
       "      <td>yes</td>\n",
       "      <td>1.0</td>\n",
       "      <td>4/14/14 17:22</td>\n",
       "      <td>...</td>\n",
       "      <td>https://pbs.twimg.com/profile_images/655134724...</td>\n",
       "      <td>0</td>\n",
       "      <td>C0DEED</td>\n",
       "      <td>I think for my APUSH creative project I'm goin...</td>\n",
       "      <td>NaN</td>\n",
       "      <td>2922</td>\n",
       "      <td>10/26/15 13:19</td>\n",
       "      <td>6.587400e+17</td>\n",
       "      <td>NaN</td>\n",
       "      <td>NaN</td>\n",
       "    </tr>\n",
       "  </tbody>\n",
       "</table>\n",
       "<p>20050 rows × 26 columns</p>\n",
       "</div>"
      ],
      "text/plain": [
       "        _unit_id  _golden _unit_state  _trusted_judgments _last_judgment_at  \\\n",
       "0      815719226    False   finalized                   3    10/26/15 23:24   \n",
       "1      815719227    False   finalized                   3    10/26/15 23:30   \n",
       "2      815719228    False   finalized                   3    10/26/15 23:33   \n",
       "3      815719229    False   finalized                   3    10/26/15 23:10   \n",
       "4      815719230    False   finalized                   3     10/27/15 1:15   \n",
       "...          ...      ...         ...                 ...               ...   \n",
       "20045  815757572     True      golden                 259               NaN   \n",
       "20046  815757681     True      golden                 248               NaN   \n",
       "20047  815757830     True      golden                 264               NaN   \n",
       "20048  815757921     True      golden                 250               NaN   \n",
       "20049  815757985     True      golden                 249               NaN   \n",
       "\n",
       "       gender  gender:confidence profile_yn  profile_yn:confidence  \\\n",
       "0        male             1.0000        yes                    1.0   \n",
       "1        male             1.0000        yes                    1.0   \n",
       "2        male             0.6625        yes                    1.0   \n",
       "3        male             1.0000        yes                    1.0   \n",
       "4      female             1.0000        yes                    1.0   \n",
       "...       ...                ...        ...                    ...   \n",
       "20045  female             1.0000        yes                    1.0   \n",
       "20046    male             1.0000        yes                    1.0   \n",
       "20047    male             1.0000        yes                    1.0   \n",
       "20048  female             0.8489        yes                    1.0   \n",
       "20049  female             1.0000        yes                    1.0   \n",
       "\n",
       "              created  ...                                       profileimage  \\\n",
       "0        12/5/13 1:48  ...  https://pbs.twimg.com/profile_images/414342229...   \n",
       "1       10/1/12 13:51  ...  https://pbs.twimg.com/profile_images/539604221...   \n",
       "2      11/28/14 11:30  ...  https://pbs.twimg.com/profile_images/657330418...   \n",
       "3       6/11/09 22:39  ...  https://pbs.twimg.com/profile_images/259703936...   \n",
       "4       4/16/14 13:23  ...  https://pbs.twimg.com/profile_images/564094871...   \n",
       "...               ...  ...                                                ...   \n",
       "20045    8/5/15 21:16  ...  https://pbs.twimg.com/profile_images/656793310...   \n",
       "20046   8/15/12 21:17  ...  https://pbs.twimg.com/profile_images/639815429...   \n",
       "20047     9/3/12 1:17  ...  https://pbs.twimg.com/profile_images/655473271...   \n",
       "20048   11/6/12 23:46  ...  https://pbs.twimg.com/profile_images/657716093...   \n",
       "20049   4/14/14 17:22  ...  https://pbs.twimg.com/profile_images/655134724...   \n",
       "\n",
       "       retweet_count sidebar_color  \\\n",
       "0                  0        FFFFFF   \n",
       "1                  0        C0DEED   \n",
       "2                  1        C0DEED   \n",
       "3                  0        C0DEED   \n",
       "4                  0             0   \n",
       "...              ...           ...   \n",
       "20045              0        C0DEED   \n",
       "20046              0             0   \n",
       "20047              0        C0DEED   \n",
       "20048              0             0   \n",
       "20049              0        C0DEED   \n",
       "\n",
       "                                                    text tweet_coord  \\\n",
       "0      Robbie E Responds To Critics After Win Against...         NaN   \n",
       "1      ÛÏIt felt like they were my friends and I was...         NaN   \n",
       "2      i absolutely adore when louis starts the songs...         NaN   \n",
       "3      Hi @JordanSpieth - Looking at the url - do you...         NaN   \n",
       "4      Watching Neighbours on Sky+ catching up with t...         NaN   \n",
       "...                                                  ...         ...   \n",
       "20045  @lookupondeath ...Fine, and I'll drink tea too...         NaN   \n",
       "20046  Greg Hardy you a good player and all but don't...         NaN   \n",
       "20047  You can miss people and still never want to se...         NaN   \n",
       "20048  @bitemyapp i had noticed your tendency to pee ...         NaN   \n",
       "20049  I think for my APUSH creative project I'm goin...         NaN   \n",
       "\n",
       "      tweet_count   tweet_created      tweet_id      tweet_location  \\\n",
       "0          110964  10/26/15 12:40  6.587300e+17     main; @Kan1shk3   \n",
       "1            7471  10/26/15 12:40  6.587300e+17                 NaN   \n",
       "2            5617  10/26/15 12:40  6.587300e+17              clcncl   \n",
       "3            1693  10/26/15 12:40  6.587300e+17       Palo Alto, CA   \n",
       "4           31462  10/26/15 12:40  6.587300e+17                 NaN   \n",
       "...           ...             ...           ...                 ...   \n",
       "20045         783  10/26/15 13:20  6.587400e+17          Verona ªÁ   \n",
       "20046       13523  10/26/15 12:40  6.587300e+17     Kansas City, MO   \n",
       "20047       26419  10/26/15 13:20  6.587400e+17      Lagos Nigeria    \n",
       "20048       56073  10/26/15 12:40  6.587300e+17  Texas Hill Country   \n",
       "20049        2922  10/26/15 13:19  6.587400e+17                 NaN   \n",
       "\n",
       "                    user_timezone  \n",
       "0                         Chennai  \n",
       "1      Eastern Time (US & Canada)  \n",
       "2                        Belgrade  \n",
       "3      Pacific Time (US & Canada)  \n",
       "4                             NaN  \n",
       "...                           ...  \n",
       "20045                         NaN  \n",
       "20046                         NaN  \n",
       "20047                         NaN  \n",
       "20048                         NaN  \n",
       "20049                         NaN  \n",
       "\n",
       "[20050 rows x 26 columns]"
      ]
     },
     "execution_count": 244,
     "metadata": {},
     "output_type": "execute_result"
    }
   ],
   "source": [
    "df"
   ]
  },
  {
   "cell_type": "markdown",
   "metadata": {},
   "source": [
    "# Data Cleaning"
   ]
  },
  {
   "cell_type": "code",
   "execution_count": 245,
   "metadata": {},
   "outputs": [],
   "source": [
    "df.drop(['profileimage', 'tweet_id', '_golden', \n",
    "              'gender_gold', 'profile_yn_gold', 'profile_yn', 'user_timezone', '_unit_state', '_trusted_judgments', '_last_judgment_at', '_unit_id'\n",
    "              , 'name', 'tweet_created', 'tweet_coord', 'link_color', 'sidebar_color', 'tweet_location'], axis = 1, inplace = True)"
   ]
  },
  {
   "cell_type": "code",
   "execution_count": 246,
   "metadata": {},
   "outputs": [
    {
     "data": {
      "text/html": [
       "<div>\n",
       "<style scoped>\n",
       "    .dataframe tbody tr th:only-of-type {\n",
       "        vertical-align: middle;\n",
       "    }\n",
       "\n",
       "    .dataframe tbody tr th {\n",
       "        vertical-align: top;\n",
       "    }\n",
       "\n",
       "    .dataframe thead th {\n",
       "        text-align: right;\n",
       "    }\n",
       "</style>\n",
       "<table border=\"1\" class=\"dataframe\">\n",
       "  <thead>\n",
       "    <tr style=\"text-align: right;\">\n",
       "      <th></th>\n",
       "      <th>gender</th>\n",
       "      <th>gender:confidence</th>\n",
       "      <th>profile_yn:confidence</th>\n",
       "      <th>created</th>\n",
       "      <th>description</th>\n",
       "      <th>fav_number</th>\n",
       "      <th>retweet_count</th>\n",
       "      <th>text</th>\n",
       "      <th>tweet_count</th>\n",
       "    </tr>\n",
       "  </thead>\n",
       "  <tbody>\n",
       "    <tr>\n",
       "      <th>0</th>\n",
       "      <td>male</td>\n",
       "      <td>1.0000</td>\n",
       "      <td>1.0</td>\n",
       "      <td>12/5/13 1:48</td>\n",
       "      <td>i sing my own rhythm.</td>\n",
       "      <td>0</td>\n",
       "      <td>0</td>\n",
       "      <td>Robbie E Responds To Critics After Win Against...</td>\n",
       "      <td>110964</td>\n",
       "    </tr>\n",
       "    <tr>\n",
       "      <th>1</th>\n",
       "      <td>male</td>\n",
       "      <td>1.0000</td>\n",
       "      <td>1.0</td>\n",
       "      <td>10/1/12 13:51</td>\n",
       "      <td>I'm the author of novels filled with family dr...</td>\n",
       "      <td>68</td>\n",
       "      <td>0</td>\n",
       "      <td>ÛÏIt felt like they were my friends and I was...</td>\n",
       "      <td>7471</td>\n",
       "    </tr>\n",
       "    <tr>\n",
       "      <th>2</th>\n",
       "      <td>male</td>\n",
       "      <td>0.6625</td>\n",
       "      <td>1.0</td>\n",
       "      <td>11/28/14 11:30</td>\n",
       "      <td>louis whining and squealing and all</td>\n",
       "      <td>7696</td>\n",
       "      <td>1</td>\n",
       "      <td>i absolutely adore when louis starts the songs...</td>\n",
       "      <td>5617</td>\n",
       "    </tr>\n",
       "    <tr>\n",
       "      <th>3</th>\n",
       "      <td>male</td>\n",
       "      <td>1.0000</td>\n",
       "      <td>1.0</td>\n",
       "      <td>6/11/09 22:39</td>\n",
       "      <td>Mobile guy.  49ers, Shazam, Google, Kleiner Pe...</td>\n",
       "      <td>202</td>\n",
       "      <td>0</td>\n",
       "      <td>Hi @JordanSpieth - Looking at the url - do you...</td>\n",
       "      <td>1693</td>\n",
       "    </tr>\n",
       "    <tr>\n",
       "      <th>4</th>\n",
       "      <td>female</td>\n",
       "      <td>1.0000</td>\n",
       "      <td>1.0</td>\n",
       "      <td>4/16/14 13:23</td>\n",
       "      <td>Ricky Wilson The Best FRONTMAN/Kaiser Chiefs T...</td>\n",
       "      <td>37318</td>\n",
       "      <td>0</td>\n",
       "      <td>Watching Neighbours on Sky+ catching up with t...</td>\n",
       "      <td>31462</td>\n",
       "    </tr>\n",
       "    <tr>\n",
       "      <th>...</th>\n",
       "      <td>...</td>\n",
       "      <td>...</td>\n",
       "      <td>...</td>\n",
       "      <td>...</td>\n",
       "      <td>...</td>\n",
       "      <td>...</td>\n",
       "      <td>...</td>\n",
       "      <td>...</td>\n",
       "      <td>...</td>\n",
       "    </tr>\n",
       "    <tr>\n",
       "      <th>20045</th>\n",
       "      <td>female</td>\n",
       "      <td>1.0000</td>\n",
       "      <td>1.0</td>\n",
       "      <td>8/5/15 21:16</td>\n",
       "      <td>(rp)</td>\n",
       "      <td>302</td>\n",
       "      <td>0</td>\n",
       "      <td>@lookupondeath ...Fine, and I'll drink tea too...</td>\n",
       "      <td>783</td>\n",
       "    </tr>\n",
       "    <tr>\n",
       "      <th>20046</th>\n",
       "      <td>male</td>\n",
       "      <td>1.0000</td>\n",
       "      <td>1.0</td>\n",
       "      <td>8/15/12 21:17</td>\n",
       "      <td>Whatever you like, it's not a problem at all. ...</td>\n",
       "      <td>2513</td>\n",
       "      <td>0</td>\n",
       "      <td>Greg Hardy you a good player and all but don't...</td>\n",
       "      <td>13523</td>\n",
       "    </tr>\n",
       "    <tr>\n",
       "      <th>20047</th>\n",
       "      <td>male</td>\n",
       "      <td>1.0000</td>\n",
       "      <td>1.0</td>\n",
       "      <td>9/3/12 1:17</td>\n",
       "      <td>#TeamBarcelona ..You look lost so you should f...</td>\n",
       "      <td>50</td>\n",
       "      <td>0</td>\n",
       "      <td>You can miss people and still never want to se...</td>\n",
       "      <td>26419</td>\n",
       "    </tr>\n",
       "    <tr>\n",
       "      <th>20048</th>\n",
       "      <td>female</td>\n",
       "      <td>0.8489</td>\n",
       "      <td>1.0</td>\n",
       "      <td>11/6/12 23:46</td>\n",
       "      <td>Anti-statist; I homeschool my kids. Aspiring t...</td>\n",
       "      <td>70804</td>\n",
       "      <td>0</td>\n",
       "      <td>@bitemyapp i had noticed your tendency to pee ...</td>\n",
       "      <td>56073</td>\n",
       "    </tr>\n",
       "    <tr>\n",
       "      <th>20049</th>\n",
       "      <td>female</td>\n",
       "      <td>1.0000</td>\n",
       "      <td>1.0</td>\n",
       "      <td>4/14/14 17:22</td>\n",
       "      <td>Teamwork makes the dream work.</td>\n",
       "      <td>3348</td>\n",
       "      <td>0</td>\n",
       "      <td>I think for my APUSH creative project I'm goin...</td>\n",
       "      <td>2922</td>\n",
       "    </tr>\n",
       "  </tbody>\n",
       "</table>\n",
       "<p>20050 rows × 9 columns</p>\n",
       "</div>"
      ],
      "text/plain": [
       "       gender  gender:confidence  profile_yn:confidence         created  \\\n",
       "0        male             1.0000                    1.0    12/5/13 1:48   \n",
       "1        male             1.0000                    1.0   10/1/12 13:51   \n",
       "2        male             0.6625                    1.0  11/28/14 11:30   \n",
       "3        male             1.0000                    1.0   6/11/09 22:39   \n",
       "4      female             1.0000                    1.0   4/16/14 13:23   \n",
       "...       ...                ...                    ...             ...   \n",
       "20045  female             1.0000                    1.0    8/5/15 21:16   \n",
       "20046    male             1.0000                    1.0   8/15/12 21:17   \n",
       "20047    male             1.0000                    1.0     9/3/12 1:17   \n",
       "20048  female             0.8489                    1.0   11/6/12 23:46   \n",
       "20049  female             1.0000                    1.0   4/14/14 17:22   \n",
       "\n",
       "                                             description  fav_number  \\\n",
       "0                                  i sing my own rhythm.           0   \n",
       "1      I'm the author of novels filled with family dr...          68   \n",
       "2                    louis whining and squealing and all        7696   \n",
       "3      Mobile guy.  49ers, Shazam, Google, Kleiner Pe...         202   \n",
       "4      Ricky Wilson The Best FRONTMAN/Kaiser Chiefs T...       37318   \n",
       "...                                                  ...         ...   \n",
       "20045                                               (rp)         302   \n",
       "20046  Whatever you like, it's not a problem at all. ...        2513   \n",
       "20047  #TeamBarcelona ..You look lost so you should f...          50   \n",
       "20048  Anti-statist; I homeschool my kids. Aspiring t...       70804   \n",
       "20049                     Teamwork makes the dream work.        3348   \n",
       "\n",
       "       retweet_count                                               text  \\\n",
       "0                  0  Robbie E Responds To Critics After Win Against...   \n",
       "1                  0  ÛÏIt felt like they were my friends and I was...   \n",
       "2                  1  i absolutely adore when louis starts the songs...   \n",
       "3                  0  Hi @JordanSpieth - Looking at the url - do you...   \n",
       "4                  0  Watching Neighbours on Sky+ catching up with t...   \n",
       "...              ...                                                ...   \n",
       "20045              0  @lookupondeath ...Fine, and I'll drink tea too...   \n",
       "20046              0  Greg Hardy you a good player and all but don't...   \n",
       "20047              0  You can miss people and still never want to se...   \n",
       "20048              0  @bitemyapp i had noticed your tendency to pee ...   \n",
       "20049              0  I think for my APUSH creative project I'm goin...   \n",
       "\n",
       "       tweet_count  \n",
       "0           110964  \n",
       "1             7471  \n",
       "2             5617  \n",
       "3             1693  \n",
       "4            31462  \n",
       "...            ...  \n",
       "20045          783  \n",
       "20046        13523  \n",
       "20047        26419  \n",
       "20048        56073  \n",
       "20049         2922  \n",
       "\n",
       "[20050 rows x 9 columns]"
      ]
     },
     "execution_count": 246,
     "metadata": {},
     "output_type": "execute_result"
    }
   ],
   "source": [
    "df"
   ]
  },
  {
   "cell_type": "code",
   "execution_count": 247,
   "metadata": {},
   "outputs": [],
   "source": [
    "df.drop(df[(df['gender'] != 'male') & (df['gender'] != 'female') & (df['gender'] != 'brand')].index, inplace = True)"
   ]
  },
  {
   "cell_type": "code",
   "execution_count": 248,
   "metadata": {},
   "outputs": [
    {
     "data": {
      "text/html": [
       "<div>\n",
       "<style scoped>\n",
       "    .dataframe tbody tr th:only-of-type {\n",
       "        vertical-align: middle;\n",
       "    }\n",
       "\n",
       "    .dataframe tbody tr th {\n",
       "        vertical-align: top;\n",
       "    }\n",
       "\n",
       "    .dataframe thead th {\n",
       "        text-align: right;\n",
       "    }\n",
       "</style>\n",
       "<table border=\"1\" class=\"dataframe\">\n",
       "  <thead>\n",
       "    <tr style=\"text-align: right;\">\n",
       "      <th></th>\n",
       "      <th>gender</th>\n",
       "      <th>gender:confidence</th>\n",
       "      <th>profile_yn:confidence</th>\n",
       "      <th>created</th>\n",
       "      <th>description</th>\n",
       "      <th>fav_number</th>\n",
       "      <th>retweet_count</th>\n",
       "      <th>text</th>\n",
       "      <th>tweet_count</th>\n",
       "    </tr>\n",
       "  </thead>\n",
       "  <tbody>\n",
       "    <tr>\n",
       "      <th>0</th>\n",
       "      <td>male</td>\n",
       "      <td>1.0000</td>\n",
       "      <td>1.0</td>\n",
       "      <td>12/5/13 1:48</td>\n",
       "      <td>i sing my own rhythm.</td>\n",
       "      <td>0</td>\n",
       "      <td>0</td>\n",
       "      <td>Robbie E Responds To Critics After Win Against...</td>\n",
       "      <td>110964</td>\n",
       "    </tr>\n",
       "    <tr>\n",
       "      <th>1</th>\n",
       "      <td>male</td>\n",
       "      <td>1.0000</td>\n",
       "      <td>1.0</td>\n",
       "      <td>10/1/12 13:51</td>\n",
       "      <td>I'm the author of novels filled with family dr...</td>\n",
       "      <td>68</td>\n",
       "      <td>0</td>\n",
       "      <td>ÛÏIt felt like they were my friends and I was...</td>\n",
       "      <td>7471</td>\n",
       "    </tr>\n",
       "    <tr>\n",
       "      <th>2</th>\n",
       "      <td>male</td>\n",
       "      <td>0.6625</td>\n",
       "      <td>1.0</td>\n",
       "      <td>11/28/14 11:30</td>\n",
       "      <td>louis whining and squealing and all</td>\n",
       "      <td>7696</td>\n",
       "      <td>1</td>\n",
       "      <td>i absolutely adore when louis starts the songs...</td>\n",
       "      <td>5617</td>\n",
       "    </tr>\n",
       "    <tr>\n",
       "      <th>3</th>\n",
       "      <td>male</td>\n",
       "      <td>1.0000</td>\n",
       "      <td>1.0</td>\n",
       "      <td>6/11/09 22:39</td>\n",
       "      <td>Mobile guy.  49ers, Shazam, Google, Kleiner Pe...</td>\n",
       "      <td>202</td>\n",
       "      <td>0</td>\n",
       "      <td>Hi @JordanSpieth - Looking at the url - do you...</td>\n",
       "      <td>1693</td>\n",
       "    </tr>\n",
       "    <tr>\n",
       "      <th>4</th>\n",
       "      <td>female</td>\n",
       "      <td>1.0000</td>\n",
       "      <td>1.0</td>\n",
       "      <td>4/16/14 13:23</td>\n",
       "      <td>Ricky Wilson The Best FRONTMAN/Kaiser Chiefs T...</td>\n",
       "      <td>37318</td>\n",
       "      <td>0</td>\n",
       "      <td>Watching Neighbours on Sky+ catching up with t...</td>\n",
       "      <td>31462</td>\n",
       "    </tr>\n",
       "    <tr>\n",
       "      <th>...</th>\n",
       "      <td>...</td>\n",
       "      <td>...</td>\n",
       "      <td>...</td>\n",
       "      <td>...</td>\n",
       "      <td>...</td>\n",
       "      <td>...</td>\n",
       "      <td>...</td>\n",
       "      <td>...</td>\n",
       "      <td>...</td>\n",
       "    </tr>\n",
       "    <tr>\n",
       "      <th>20045</th>\n",
       "      <td>female</td>\n",
       "      <td>1.0000</td>\n",
       "      <td>1.0</td>\n",
       "      <td>8/5/15 21:16</td>\n",
       "      <td>(rp)</td>\n",
       "      <td>302</td>\n",
       "      <td>0</td>\n",
       "      <td>@lookupondeath ...Fine, and I'll drink tea too...</td>\n",
       "      <td>783</td>\n",
       "    </tr>\n",
       "    <tr>\n",
       "      <th>20046</th>\n",
       "      <td>male</td>\n",
       "      <td>1.0000</td>\n",
       "      <td>1.0</td>\n",
       "      <td>8/15/12 21:17</td>\n",
       "      <td>Whatever you like, it's not a problem at all. ...</td>\n",
       "      <td>2513</td>\n",
       "      <td>0</td>\n",
       "      <td>Greg Hardy you a good player and all but don't...</td>\n",
       "      <td>13523</td>\n",
       "    </tr>\n",
       "    <tr>\n",
       "      <th>20047</th>\n",
       "      <td>male</td>\n",
       "      <td>1.0000</td>\n",
       "      <td>1.0</td>\n",
       "      <td>9/3/12 1:17</td>\n",
       "      <td>#TeamBarcelona ..You look lost so you should f...</td>\n",
       "      <td>50</td>\n",
       "      <td>0</td>\n",
       "      <td>You can miss people and still never want to se...</td>\n",
       "      <td>26419</td>\n",
       "    </tr>\n",
       "    <tr>\n",
       "      <th>20048</th>\n",
       "      <td>female</td>\n",
       "      <td>0.8489</td>\n",
       "      <td>1.0</td>\n",
       "      <td>11/6/12 23:46</td>\n",
       "      <td>Anti-statist; I homeschool my kids. Aspiring t...</td>\n",
       "      <td>70804</td>\n",
       "      <td>0</td>\n",
       "      <td>@bitemyapp i had noticed your tendency to pee ...</td>\n",
       "      <td>56073</td>\n",
       "    </tr>\n",
       "    <tr>\n",
       "      <th>20049</th>\n",
       "      <td>female</td>\n",
       "      <td>1.0000</td>\n",
       "      <td>1.0</td>\n",
       "      <td>4/14/14 17:22</td>\n",
       "      <td>Teamwork makes the dream work.</td>\n",
       "      <td>3348</td>\n",
       "      <td>0</td>\n",
       "      <td>I think for my APUSH creative project I'm goin...</td>\n",
       "      <td>2922</td>\n",
       "    </tr>\n",
       "  </tbody>\n",
       "</table>\n",
       "<p>18836 rows × 9 columns</p>\n",
       "</div>"
      ],
      "text/plain": [
       "       gender  gender:confidence  profile_yn:confidence         created  \\\n",
       "0        male             1.0000                    1.0    12/5/13 1:48   \n",
       "1        male             1.0000                    1.0   10/1/12 13:51   \n",
       "2        male             0.6625                    1.0  11/28/14 11:30   \n",
       "3        male             1.0000                    1.0   6/11/09 22:39   \n",
       "4      female             1.0000                    1.0   4/16/14 13:23   \n",
       "...       ...                ...                    ...             ...   \n",
       "20045  female             1.0000                    1.0    8/5/15 21:16   \n",
       "20046    male             1.0000                    1.0   8/15/12 21:17   \n",
       "20047    male             1.0000                    1.0     9/3/12 1:17   \n",
       "20048  female             0.8489                    1.0   11/6/12 23:46   \n",
       "20049  female             1.0000                    1.0   4/14/14 17:22   \n",
       "\n",
       "                                             description  fav_number  \\\n",
       "0                                  i sing my own rhythm.           0   \n",
       "1      I'm the author of novels filled with family dr...          68   \n",
       "2                    louis whining and squealing and all        7696   \n",
       "3      Mobile guy.  49ers, Shazam, Google, Kleiner Pe...         202   \n",
       "4      Ricky Wilson The Best FRONTMAN/Kaiser Chiefs T...       37318   \n",
       "...                                                  ...         ...   \n",
       "20045                                               (rp)         302   \n",
       "20046  Whatever you like, it's not a problem at all. ...        2513   \n",
       "20047  #TeamBarcelona ..You look lost so you should f...          50   \n",
       "20048  Anti-statist; I homeschool my kids. Aspiring t...       70804   \n",
       "20049                     Teamwork makes the dream work.        3348   \n",
       "\n",
       "       retweet_count                                               text  \\\n",
       "0                  0  Robbie E Responds To Critics After Win Against...   \n",
       "1                  0  ÛÏIt felt like they were my friends and I was...   \n",
       "2                  1  i absolutely adore when louis starts the songs...   \n",
       "3                  0  Hi @JordanSpieth - Looking at the url - do you...   \n",
       "4                  0  Watching Neighbours on Sky+ catching up with t...   \n",
       "...              ...                                                ...   \n",
       "20045              0  @lookupondeath ...Fine, and I'll drink tea too...   \n",
       "20046              0  Greg Hardy you a good player and all but don't...   \n",
       "20047              0  You can miss people and still never want to se...   \n",
       "20048              0  @bitemyapp i had noticed your tendency to pee ...   \n",
       "20049              0  I think for my APUSH creative project I'm goin...   \n",
       "\n",
       "       tweet_count  \n",
       "0           110964  \n",
       "1             7471  \n",
       "2             5617  \n",
       "3             1693  \n",
       "4            31462  \n",
       "...            ...  \n",
       "20045          783  \n",
       "20046        13523  \n",
       "20047        26419  \n",
       "20048        56073  \n",
       "20049         2922  \n",
       "\n",
       "[18836 rows x 9 columns]"
      ]
     },
     "execution_count": 248,
     "metadata": {},
     "output_type": "execute_result"
    }
   ],
   "source": [
    "\n",
    "df"
   ]
  },
  {
   "cell_type": "code",
   "execution_count": 249,
   "metadata": {},
   "outputs": [
    {
     "name": "stdout",
     "output_type": "stream",
     "text": [
      "<class 'pandas.core.frame.DataFrame'>\n",
      "Int64Index: 18836 entries, 0 to 20049\n",
      "Data columns (total 9 columns):\n",
      " #   Column                 Non-Null Count  Dtype  \n",
      "---  ------                 --------------  -----  \n",
      " 0   gender                 18836 non-null  object \n",
      " 1   gender:confidence      18836 non-null  float64\n",
      " 2   profile_yn:confidence  18836 non-null  float64\n",
      " 3   created                18836 non-null  object \n",
      " 4   description            15522 non-null  object \n",
      " 5   fav_number             18836 non-null  int64  \n",
      " 6   retweet_count          18836 non-null  int64  \n",
      " 7   text                   18836 non-null  object \n",
      " 8   tweet_count            18836 non-null  int64  \n",
      "dtypes: float64(2), int64(3), object(4)\n",
      "memory usage: 1.4+ MB\n"
     ]
    }
   ],
   "source": [
    "df.info()"
   ]
  },
  {
   "cell_type": "code",
   "execution_count": 250,
   "metadata": {},
   "outputs": [],
   "source": [
    "df['created'] = pd.to_datetime(df['created'])"
   ]
  },
  {
   "cell_type": "code",
   "execution_count": 251,
   "metadata": {},
   "outputs": [
    {
     "data": {
      "text/html": [
       "<div>\n",
       "<style scoped>\n",
       "    .dataframe tbody tr th:only-of-type {\n",
       "        vertical-align: middle;\n",
       "    }\n",
       "\n",
       "    .dataframe tbody tr th {\n",
       "        vertical-align: top;\n",
       "    }\n",
       "\n",
       "    .dataframe thead th {\n",
       "        text-align: right;\n",
       "    }\n",
       "</style>\n",
       "<table border=\"1\" class=\"dataframe\">\n",
       "  <thead>\n",
       "    <tr style=\"text-align: right;\">\n",
       "      <th></th>\n",
       "      <th>gender</th>\n",
       "      <th>gender:confidence</th>\n",
       "      <th>profile_yn:confidence</th>\n",
       "      <th>created</th>\n",
       "      <th>description</th>\n",
       "      <th>fav_number</th>\n",
       "      <th>retweet_count</th>\n",
       "      <th>text</th>\n",
       "      <th>tweet_count</th>\n",
       "    </tr>\n",
       "  </thead>\n",
       "  <tbody>\n",
       "    <tr>\n",
       "      <th>0</th>\n",
       "      <td>male</td>\n",
       "      <td>1.0000</td>\n",
       "      <td>1.0</td>\n",
       "      <td>2013-12-05 01:48:00</td>\n",
       "      <td>i sing my own rhythm.</td>\n",
       "      <td>0</td>\n",
       "      <td>0</td>\n",
       "      <td>Robbie E Responds To Critics After Win Against...</td>\n",
       "      <td>110964</td>\n",
       "    </tr>\n",
       "    <tr>\n",
       "      <th>1</th>\n",
       "      <td>male</td>\n",
       "      <td>1.0000</td>\n",
       "      <td>1.0</td>\n",
       "      <td>2012-10-01 13:51:00</td>\n",
       "      <td>I'm the author of novels filled with family dr...</td>\n",
       "      <td>68</td>\n",
       "      <td>0</td>\n",
       "      <td>ÛÏIt felt like they were my friends and I was...</td>\n",
       "      <td>7471</td>\n",
       "    </tr>\n",
       "    <tr>\n",
       "      <th>2</th>\n",
       "      <td>male</td>\n",
       "      <td>0.6625</td>\n",
       "      <td>1.0</td>\n",
       "      <td>2014-11-28 11:30:00</td>\n",
       "      <td>louis whining and squealing and all</td>\n",
       "      <td>7696</td>\n",
       "      <td>1</td>\n",
       "      <td>i absolutely adore when louis starts the songs...</td>\n",
       "      <td>5617</td>\n",
       "    </tr>\n",
       "    <tr>\n",
       "      <th>3</th>\n",
       "      <td>male</td>\n",
       "      <td>1.0000</td>\n",
       "      <td>1.0</td>\n",
       "      <td>2009-06-11 22:39:00</td>\n",
       "      <td>Mobile guy.  49ers, Shazam, Google, Kleiner Pe...</td>\n",
       "      <td>202</td>\n",
       "      <td>0</td>\n",
       "      <td>Hi @JordanSpieth - Looking at the url - do you...</td>\n",
       "      <td>1693</td>\n",
       "    </tr>\n",
       "    <tr>\n",
       "      <th>4</th>\n",
       "      <td>female</td>\n",
       "      <td>1.0000</td>\n",
       "      <td>1.0</td>\n",
       "      <td>2014-04-16 13:23:00</td>\n",
       "      <td>Ricky Wilson The Best FRONTMAN/Kaiser Chiefs T...</td>\n",
       "      <td>37318</td>\n",
       "      <td>0</td>\n",
       "      <td>Watching Neighbours on Sky+ catching up with t...</td>\n",
       "      <td>31462</td>\n",
       "    </tr>\n",
       "    <tr>\n",
       "      <th>...</th>\n",
       "      <td>...</td>\n",
       "      <td>...</td>\n",
       "      <td>...</td>\n",
       "      <td>...</td>\n",
       "      <td>...</td>\n",
       "      <td>...</td>\n",
       "      <td>...</td>\n",
       "      <td>...</td>\n",
       "      <td>...</td>\n",
       "    </tr>\n",
       "    <tr>\n",
       "      <th>20045</th>\n",
       "      <td>female</td>\n",
       "      <td>1.0000</td>\n",
       "      <td>1.0</td>\n",
       "      <td>2015-08-05 21:16:00</td>\n",
       "      <td>(rp)</td>\n",
       "      <td>302</td>\n",
       "      <td>0</td>\n",
       "      <td>@lookupondeath ...Fine, and I'll drink tea too...</td>\n",
       "      <td>783</td>\n",
       "    </tr>\n",
       "    <tr>\n",
       "      <th>20046</th>\n",
       "      <td>male</td>\n",
       "      <td>1.0000</td>\n",
       "      <td>1.0</td>\n",
       "      <td>2012-08-15 21:17:00</td>\n",
       "      <td>Whatever you like, it's not a problem at all. ...</td>\n",
       "      <td>2513</td>\n",
       "      <td>0</td>\n",
       "      <td>Greg Hardy you a good player and all but don't...</td>\n",
       "      <td>13523</td>\n",
       "    </tr>\n",
       "    <tr>\n",
       "      <th>20047</th>\n",
       "      <td>male</td>\n",
       "      <td>1.0000</td>\n",
       "      <td>1.0</td>\n",
       "      <td>2012-09-03 01:17:00</td>\n",
       "      <td>#TeamBarcelona ..You look lost so you should f...</td>\n",
       "      <td>50</td>\n",
       "      <td>0</td>\n",
       "      <td>You can miss people and still never want to se...</td>\n",
       "      <td>26419</td>\n",
       "    </tr>\n",
       "    <tr>\n",
       "      <th>20048</th>\n",
       "      <td>female</td>\n",
       "      <td>0.8489</td>\n",
       "      <td>1.0</td>\n",
       "      <td>2012-11-06 23:46:00</td>\n",
       "      <td>Anti-statist; I homeschool my kids. Aspiring t...</td>\n",
       "      <td>70804</td>\n",
       "      <td>0</td>\n",
       "      <td>@bitemyapp i had noticed your tendency to pee ...</td>\n",
       "      <td>56073</td>\n",
       "    </tr>\n",
       "    <tr>\n",
       "      <th>20049</th>\n",
       "      <td>female</td>\n",
       "      <td>1.0000</td>\n",
       "      <td>1.0</td>\n",
       "      <td>2014-04-14 17:22:00</td>\n",
       "      <td>Teamwork makes the dream work.</td>\n",
       "      <td>3348</td>\n",
       "      <td>0</td>\n",
       "      <td>I think for my APUSH creative project I'm goin...</td>\n",
       "      <td>2922</td>\n",
       "    </tr>\n",
       "  </tbody>\n",
       "</table>\n",
       "<p>18836 rows × 9 columns</p>\n",
       "</div>"
      ],
      "text/plain": [
       "       gender  gender:confidence  profile_yn:confidence             created  \\\n",
       "0        male             1.0000                    1.0 2013-12-05 01:48:00   \n",
       "1        male             1.0000                    1.0 2012-10-01 13:51:00   \n",
       "2        male             0.6625                    1.0 2014-11-28 11:30:00   \n",
       "3        male             1.0000                    1.0 2009-06-11 22:39:00   \n",
       "4      female             1.0000                    1.0 2014-04-16 13:23:00   \n",
       "...       ...                ...                    ...                 ...   \n",
       "20045  female             1.0000                    1.0 2015-08-05 21:16:00   \n",
       "20046    male             1.0000                    1.0 2012-08-15 21:17:00   \n",
       "20047    male             1.0000                    1.0 2012-09-03 01:17:00   \n",
       "20048  female             0.8489                    1.0 2012-11-06 23:46:00   \n",
       "20049  female             1.0000                    1.0 2014-04-14 17:22:00   \n",
       "\n",
       "                                             description  fav_number  \\\n",
       "0                                  i sing my own rhythm.           0   \n",
       "1      I'm the author of novels filled with family dr...          68   \n",
       "2                    louis whining and squealing and all        7696   \n",
       "3      Mobile guy.  49ers, Shazam, Google, Kleiner Pe...         202   \n",
       "4      Ricky Wilson The Best FRONTMAN/Kaiser Chiefs T...       37318   \n",
       "...                                                  ...         ...   \n",
       "20045                                               (rp)         302   \n",
       "20046  Whatever you like, it's not a problem at all. ...        2513   \n",
       "20047  #TeamBarcelona ..You look lost so you should f...          50   \n",
       "20048  Anti-statist; I homeschool my kids. Aspiring t...       70804   \n",
       "20049                     Teamwork makes the dream work.        3348   \n",
       "\n",
       "       retweet_count                                               text  \\\n",
       "0                  0  Robbie E Responds To Critics After Win Against...   \n",
       "1                  0  ÛÏIt felt like they were my friends and I was...   \n",
       "2                  1  i absolutely adore when louis starts the songs...   \n",
       "3                  0  Hi @JordanSpieth - Looking at the url - do you...   \n",
       "4                  0  Watching Neighbours on Sky+ catching up with t...   \n",
       "...              ...                                                ...   \n",
       "20045              0  @lookupondeath ...Fine, and I'll drink tea too...   \n",
       "20046              0  Greg Hardy you a good player and all but don't...   \n",
       "20047              0  You can miss people and still never want to se...   \n",
       "20048              0  @bitemyapp i had noticed your tendency to pee ...   \n",
       "20049              0  I think for my APUSH creative project I'm goin...   \n",
       "\n",
       "       tweet_count  \n",
       "0           110964  \n",
       "1             7471  \n",
       "2             5617  \n",
       "3             1693  \n",
       "4            31462  \n",
       "...            ...  \n",
       "20045          783  \n",
       "20046        13523  \n",
       "20047        26419  \n",
       "20048        56073  \n",
       "20049         2922  \n",
       "\n",
       "[18836 rows x 9 columns]"
      ]
     },
     "execution_count": 251,
     "metadata": {},
     "output_type": "execute_result"
    }
   ],
   "source": [
    "df"
   ]
  },
  {
   "cell_type": "markdown",
   "metadata": {},
   "source": [
    "# Data Visualization"
   ]
  },
  {
   "cell_type": "markdown",
   "metadata": {},
   "source": [
    "# Text analysis based on common words used by Males & Females ?"
   ]
  },
  {
   "cell_type": "markdown",
   "metadata": {},
   "source": [
    "#Text Cleaning"
   ]
  },
  {
   "cell_type": "code",
   "execution_count": 252,
   "metadata": {},
   "outputs": [
    {
     "data": {
      "text/html": [
       "<div>\n",
       "<style scoped>\n",
       "    .dataframe tbody tr th:only-of-type {\n",
       "        vertical-align: middle;\n",
       "    }\n",
       "\n",
       "    .dataframe tbody tr th {\n",
       "        vertical-align: top;\n",
       "    }\n",
       "\n",
       "    .dataframe thead th {\n",
       "        text-align: right;\n",
       "    }\n",
       "</style>\n",
       "<table border=\"1\" class=\"dataframe\">\n",
       "  <thead>\n",
       "    <tr style=\"text-align: right;\">\n",
       "      <th></th>\n",
       "      <th>gender</th>\n",
       "      <th>gender:confidence</th>\n",
       "      <th>profile_yn:confidence</th>\n",
       "      <th>created</th>\n",
       "      <th>description</th>\n",
       "      <th>fav_number</th>\n",
       "      <th>retweet_count</th>\n",
       "      <th>text</th>\n",
       "      <th>tweet_count</th>\n",
       "    </tr>\n",
       "  </thead>\n",
       "  <tbody>\n",
       "    <tr>\n",
       "      <th>0</th>\n",
       "      <td>male</td>\n",
       "      <td>1.0000</td>\n",
       "      <td>1.0</td>\n",
       "      <td>2013-12-05 01:48:00</td>\n",
       "      <td>i sing my own rhythm.</td>\n",
       "      <td>0</td>\n",
       "      <td>0</td>\n",
       "      <td>Robbie E Responds To Critics After Win Against...</td>\n",
       "      <td>110964</td>\n",
       "    </tr>\n",
       "    <tr>\n",
       "      <th>1</th>\n",
       "      <td>male</td>\n",
       "      <td>1.0000</td>\n",
       "      <td>1.0</td>\n",
       "      <td>2012-10-01 13:51:00</td>\n",
       "      <td>I'm the author of novels filled with family dr...</td>\n",
       "      <td>68</td>\n",
       "      <td>0</td>\n",
       "      <td>ÛÏIt felt like they were my friends and I was...</td>\n",
       "      <td>7471</td>\n",
       "    </tr>\n",
       "    <tr>\n",
       "      <th>2</th>\n",
       "      <td>male</td>\n",
       "      <td>0.6625</td>\n",
       "      <td>1.0</td>\n",
       "      <td>2014-11-28 11:30:00</td>\n",
       "      <td>louis whining and squealing and all</td>\n",
       "      <td>7696</td>\n",
       "      <td>1</td>\n",
       "      <td>i absolutely adore when louis starts the songs...</td>\n",
       "      <td>5617</td>\n",
       "    </tr>\n",
       "    <tr>\n",
       "      <th>3</th>\n",
       "      <td>male</td>\n",
       "      <td>1.0000</td>\n",
       "      <td>1.0</td>\n",
       "      <td>2009-06-11 22:39:00</td>\n",
       "      <td>Mobile guy.  49ers, Shazam, Google, Kleiner Pe...</td>\n",
       "      <td>202</td>\n",
       "      <td>0</td>\n",
       "      <td>Hi @JordanSpieth - Looking at the url - do you...</td>\n",
       "      <td>1693</td>\n",
       "    </tr>\n",
       "    <tr>\n",
       "      <th>4</th>\n",
       "      <td>female</td>\n",
       "      <td>1.0000</td>\n",
       "      <td>1.0</td>\n",
       "      <td>2014-04-16 13:23:00</td>\n",
       "      <td>Ricky Wilson The Best FRONTMAN/Kaiser Chiefs T...</td>\n",
       "      <td>37318</td>\n",
       "      <td>0</td>\n",
       "      <td>Watching Neighbours on Sky+ catching up with t...</td>\n",
       "      <td>31462</td>\n",
       "    </tr>\n",
       "  </tbody>\n",
       "</table>\n",
       "</div>"
      ],
      "text/plain": [
       "   gender  gender:confidence  profile_yn:confidence             created  \\\n",
       "0    male             1.0000                    1.0 2013-12-05 01:48:00   \n",
       "1    male             1.0000                    1.0 2012-10-01 13:51:00   \n",
       "2    male             0.6625                    1.0 2014-11-28 11:30:00   \n",
       "3    male             1.0000                    1.0 2009-06-11 22:39:00   \n",
       "4  female             1.0000                    1.0 2014-04-16 13:23:00   \n",
       "\n",
       "                                         description  fav_number  \\\n",
       "0                              i sing my own rhythm.           0   \n",
       "1  I'm the author of novels filled with family dr...          68   \n",
       "2                louis whining and squealing and all        7696   \n",
       "3  Mobile guy.  49ers, Shazam, Google, Kleiner Pe...         202   \n",
       "4  Ricky Wilson The Best FRONTMAN/Kaiser Chiefs T...       37318   \n",
       "\n",
       "   retweet_count                                               text  \\\n",
       "0              0  Robbie E Responds To Critics After Win Against...   \n",
       "1              0  ÛÏIt felt like they were my friends and I was...   \n",
       "2              1  i absolutely adore when louis starts the songs...   \n",
       "3              0  Hi @JordanSpieth - Looking at the url - do you...   \n",
       "4              0  Watching Neighbours on Sky+ catching up with t...   \n",
       "\n",
       "   tweet_count  \n",
       "0       110964  \n",
       "1         7471  \n",
       "2         5617  \n",
       "3         1693  \n",
       "4        31462  "
      ]
     },
     "execution_count": 252,
     "metadata": {},
     "output_type": "execute_result"
    }
   ],
   "source": [
    "# dropping all the null values from 'gender'\n",
    "df = df.dropna(subset=['gender'],how ='any')  \n",
    "df.head()"
   ]
  },
  {
   "cell_type": "code",
   "execution_count": 253,
   "metadata": {},
   "outputs": [],
   "source": [
    "# Merging the 'text' & 'description' to combine all sorts of text and then find out common words\n",
    "\n",
    "df['text_description'] = df['text'].str.cat(df['description'], sep=' ')"
   ]
  },
  {
   "cell_type": "code",
   "execution_count": 254,
   "metadata": {},
   "outputs": [],
   "source": [
    "df = df.drop(['description','text'],axis=1)"
   ]
  },
  {
   "cell_type": "code",
   "execution_count": 255,
   "metadata": {},
   "outputs": [
    {
     "data": {
      "text/html": [
       "<div>\n",
       "<style scoped>\n",
       "    .dataframe tbody tr th:only-of-type {\n",
       "        vertical-align: middle;\n",
       "    }\n",
       "\n",
       "    .dataframe tbody tr th {\n",
       "        vertical-align: top;\n",
       "    }\n",
       "\n",
       "    .dataframe thead th {\n",
       "        text-align: right;\n",
       "    }\n",
       "</style>\n",
       "<table border=\"1\" class=\"dataframe\">\n",
       "  <thead>\n",
       "    <tr style=\"text-align: right;\">\n",
       "      <th></th>\n",
       "      <th>gender</th>\n",
       "      <th>gender:confidence</th>\n",
       "      <th>profile_yn:confidence</th>\n",
       "      <th>created</th>\n",
       "      <th>fav_number</th>\n",
       "      <th>retweet_count</th>\n",
       "      <th>tweet_count</th>\n",
       "      <th>text_description</th>\n",
       "    </tr>\n",
       "  </thead>\n",
       "  <tbody>\n",
       "    <tr>\n",
       "      <th>0</th>\n",
       "      <td>male</td>\n",
       "      <td>1.0000</td>\n",
       "      <td>1.0</td>\n",
       "      <td>2013-12-05 01:48:00</td>\n",
       "      <td>0</td>\n",
       "      <td>0</td>\n",
       "      <td>110964</td>\n",
       "      <td>Robbie E Responds To Critics After Win Against...</td>\n",
       "    </tr>\n",
       "    <tr>\n",
       "      <th>1</th>\n",
       "      <td>male</td>\n",
       "      <td>1.0000</td>\n",
       "      <td>1.0</td>\n",
       "      <td>2012-10-01 13:51:00</td>\n",
       "      <td>68</td>\n",
       "      <td>0</td>\n",
       "      <td>7471</td>\n",
       "      <td>ÛÏIt felt like they were my friends and I was...</td>\n",
       "    </tr>\n",
       "    <tr>\n",
       "      <th>2</th>\n",
       "      <td>male</td>\n",
       "      <td>0.6625</td>\n",
       "      <td>1.0</td>\n",
       "      <td>2014-11-28 11:30:00</td>\n",
       "      <td>7696</td>\n",
       "      <td>1</td>\n",
       "      <td>5617</td>\n",
       "      <td>i absolutely adore when louis starts the songs...</td>\n",
       "    </tr>\n",
       "    <tr>\n",
       "      <th>3</th>\n",
       "      <td>male</td>\n",
       "      <td>1.0000</td>\n",
       "      <td>1.0</td>\n",
       "      <td>2009-06-11 22:39:00</td>\n",
       "      <td>202</td>\n",
       "      <td>0</td>\n",
       "      <td>1693</td>\n",
       "      <td>Hi @JordanSpieth - Looking at the url - do you...</td>\n",
       "    </tr>\n",
       "    <tr>\n",
       "      <th>4</th>\n",
       "      <td>female</td>\n",
       "      <td>1.0000</td>\n",
       "      <td>1.0</td>\n",
       "      <td>2014-04-16 13:23:00</td>\n",
       "      <td>37318</td>\n",
       "      <td>0</td>\n",
       "      <td>31462</td>\n",
       "      <td>Watching Neighbours on Sky+ catching up with t...</td>\n",
       "    </tr>\n",
       "  </tbody>\n",
       "</table>\n",
       "</div>"
      ],
      "text/plain": [
       "   gender  gender:confidence  profile_yn:confidence             created  \\\n",
       "0    male             1.0000                    1.0 2013-12-05 01:48:00   \n",
       "1    male             1.0000                    1.0 2012-10-01 13:51:00   \n",
       "2    male             0.6625                    1.0 2014-11-28 11:30:00   \n",
       "3    male             1.0000                    1.0 2009-06-11 22:39:00   \n",
       "4  female             1.0000                    1.0 2014-04-16 13:23:00   \n",
       "\n",
       "   fav_number  retweet_count  tweet_count  \\\n",
       "0           0              0       110964   \n",
       "1          68              0         7471   \n",
       "2        7696              1         5617   \n",
       "3         202              0         1693   \n",
       "4       37318              0        31462   \n",
       "\n",
       "                                    text_description  \n",
       "0  Robbie E Responds To Critics After Win Against...  \n",
       "1  ÛÏIt felt like they were my friends and I was...  \n",
       "2  i absolutely adore when louis starts the songs...  \n",
       "3  Hi @JordanSpieth - Looking at the url - do you...  \n",
       "4  Watching Neighbours on Sky+ catching up with t...  "
      ]
     },
     "execution_count": 255,
     "metadata": {},
     "output_type": "execute_result"
    }
   ],
   "source": [
    "df.head()"
   ]
  },
  {
   "cell_type": "code",
   "execution_count": 256,
   "metadata": {},
   "outputs": [
    {
     "data": {
      "text/html": [
       "<div>\n",
       "<style scoped>\n",
       "    .dataframe tbody tr th:only-of-type {\n",
       "        vertical-align: middle;\n",
       "    }\n",
       "\n",
       "    .dataframe tbody tr th {\n",
       "        vertical-align: top;\n",
       "    }\n",
       "\n",
       "    .dataframe thead th {\n",
       "        text-align: right;\n",
       "    }\n",
       "</style>\n",
       "<table border=\"1\" class=\"dataframe\">\n",
       "  <thead>\n",
       "    <tr style=\"text-align: right;\">\n",
       "      <th></th>\n",
       "      <th>gender</th>\n",
       "      <th>gender:confidence</th>\n",
       "      <th>profile_yn:confidence</th>\n",
       "      <th>created</th>\n",
       "      <th>fav_number</th>\n",
       "      <th>retweet_count</th>\n",
       "      <th>tweet_count</th>\n",
       "      <th>text_description</th>\n",
       "    </tr>\n",
       "  </thead>\n",
       "  <tbody>\n",
       "    <tr>\n",
       "      <th>0</th>\n",
       "      <td>male</td>\n",
       "      <td>1.0000</td>\n",
       "      <td>1.0</td>\n",
       "      <td>2013-12-05 01:48:00</td>\n",
       "      <td>0</td>\n",
       "      <td>0</td>\n",
       "      <td>110964</td>\n",
       "      <td>robbie e responds to critics after win against...</td>\n",
       "    </tr>\n",
       "    <tr>\n",
       "      <th>1</th>\n",
       "      <td>male</td>\n",
       "      <td>1.0000</td>\n",
       "      <td>1.0</td>\n",
       "      <td>2012-10-01 13:51:00</td>\n",
       "      <td>68</td>\n",
       "      <td>0</td>\n",
       "      <td>7471</td>\n",
       "      <td>ûïit felt like they were my friends and i was...</td>\n",
       "    </tr>\n",
       "    <tr>\n",
       "      <th>2</th>\n",
       "      <td>male</td>\n",
       "      <td>0.6625</td>\n",
       "      <td>1.0</td>\n",
       "      <td>2014-11-28 11:30:00</td>\n",
       "      <td>7696</td>\n",
       "      <td>1</td>\n",
       "      <td>5617</td>\n",
       "      <td>i absolutely adore when louis starts the songs...</td>\n",
       "    </tr>\n",
       "    <tr>\n",
       "      <th>3</th>\n",
       "      <td>male</td>\n",
       "      <td>1.0000</td>\n",
       "      <td>1.0</td>\n",
       "      <td>2009-06-11 22:39:00</td>\n",
       "      <td>202</td>\n",
       "      <td>0</td>\n",
       "      <td>1693</td>\n",
       "      <td>hi jordanspieth looking at the url do you use ...</td>\n",
       "    </tr>\n",
       "    <tr>\n",
       "      <th>4</th>\n",
       "      <td>female</td>\n",
       "      <td>1.0000</td>\n",
       "      <td>1.0</td>\n",
       "      <td>2014-04-16 13:23:00</td>\n",
       "      <td>37318</td>\n",
       "      <td>0</td>\n",
       "      <td>31462</td>\n",
       "      <td>watching neighbours on sky catching up with th...</td>\n",
       "    </tr>\n",
       "  </tbody>\n",
       "</table>\n",
       "</div>"
      ],
      "text/plain": [
       "   gender  gender:confidence  profile_yn:confidence             created  \\\n",
       "0    male             1.0000                    1.0 2013-12-05 01:48:00   \n",
       "1    male             1.0000                    1.0 2012-10-01 13:51:00   \n",
       "2    male             0.6625                    1.0 2014-11-28 11:30:00   \n",
       "3    male             1.0000                    1.0 2009-06-11 22:39:00   \n",
       "4  female             1.0000                    1.0 2014-04-16 13:23:00   \n",
       "\n",
       "   fav_number  retweet_count  tweet_count  \\\n",
       "0           0              0       110964   \n",
       "1          68              0         7471   \n",
       "2        7696              1         5617   \n",
       "3         202              0         1693   \n",
       "4       37318              0        31462   \n",
       "\n",
       "                                    text_description  \n",
       "0  robbie e responds to critics after win against...  \n",
       "1   ûïit felt like they were my friends and i was...  \n",
       "2  i absolutely adore when louis starts the songs...  \n",
       "3  hi jordanspieth looking at the url do you use ...  \n",
       "4  watching neighbours on sky catching up with th...  "
      ]
     },
     "execution_count": 256,
     "metadata": {},
     "output_type": "execute_result"
    }
   ],
   "source": [
    "# Junk words & letters other than the English vocab words are filtered out\n",
    "import re\n",
    "def cleaning(s):\n",
    "    s = str(s)\n",
    "    s = s.lower()\n",
    "    s = s.replace(\",\",\"\")\n",
    "    s = re.sub('[!@#$_]', '', s)\n",
    "    s = re.sub('\\W,\\s',' ',s)\n",
    "    s = re.sub(r'[^\\w]', ' ', s)\n",
    "    s = re.sub('\\s\\W',' ',s)\n",
    "    s = re.sub(\"\\d+\", \"\", s)\n",
    "    s = re.sub('\\s+',' ',s)\n",
    "    s = s.replace(\"co\",\"\")\n",
    "    s = s.replace(\"https\",\"\")\n",
    "    s = s.replace(\"[\\w*\",\" \")\n",
    "    return s\n",
    "\n",
    "df['text_description'] = [cleaning(s) for s in df['text_description']]\n",
    "df.head()"
   ]
  },
  {
   "cell_type": "code",
   "execution_count": 257,
   "metadata": {},
   "outputs": [
    {
     "data": {
      "text/plain": [
       "[('', 23478),\n",
       " ('the', 17122),\n",
       " ('and', 15484),\n",
       " ('t', 10704),\n",
       " ('i', 9901),\n",
       " ('to', 8102),\n",
       " ('a', 7475),\n",
       " ('of', 6910),\n",
       " ('you', 5479),\n",
       " ('in', 5168),\n",
       " ('for', 5114),\n",
       " ('is', 4311),\n",
       " ('my', 3793),\n",
       " ('s', 3475),\n",
       " ('it', 3474),\n",
       " ('nan', 3318),\n",
       " ('on', 3250),\n",
       " ('me', 2883),\n",
       " ('with', 2475),\n",
       " ('that', 2353)]"
      ]
     },
     "execution_count": 257,
     "metadata": {},
     "output_type": "execute_result"
    }
   ],
   "source": [
    "#Removing Stop words from 'text_description'\n",
    "\n",
    "from collections import Counter\n",
    "words = Counter()\n",
    "for twit in df['text_description']:\n",
    "    for x in twit.split(' '):\n",
    "        words[x] += 1\n",
    "\n",
    "words.most_common(20)"
   ]
  },
  {
   "cell_type": "markdown",
   "metadata": {},
   "source": [
    "These are the number of most common stopwords used in the whole dataset These words are considered 'noise' which can be eliminated"
   ]
  },
  {
   "cell_type": "code",
   "execution_count": 258,
   "metadata": {},
   "outputs": [
    {
     "data": {
      "text/plain": [
       "[('', 23478),\n",
       " ('nan', 3318),\n",
       " ('û', 2019),\n",
       " ('ù', 1682),\n",
       " ('love', 1539),\n",
       " ('like', 1284),\n",
       " ('get', 1213),\n",
       " ('ü', 1195),\n",
       " ('http', 1099),\n",
       " ('one', 1059),\n",
       " ('life', 983),\n",
       " ('new', 890),\n",
       " ('time', 874),\n",
       " ('êû', 838),\n",
       " ('news', 801),\n",
       " ('best', 744),\n",
       " ('day', 725),\n",
       " ('people', 719),\n",
       " ('follow', 685),\n",
       " ('world', 670)]"
      ]
     },
     "execution_count": 258,
     "metadata": {},
     "output_type": "execute_result"
    }
   ],
   "source": [
    "# Filtering out 'text_description' and printing most commonly used words by elimination stopwords\n",
    "\n",
    "from nltk.corpus import stopwords\n",
    "stopwords = stopwords.words('english')\n",
    "words_filtered = Counter()\n",
    "for x, y in words.items():\n",
    "    if not x in stopwords:\n",
    "        words_filtered[x]=y\n",
    "\n",
    "words_filtered.most_common(20)"
   ]
  },
  {
   "cell_type": "markdown",
   "metadata": {},
   "source": [
    "Answer: The most used words by the users are words like Love, Like, Life, Time etc "
   ]
  },
  {
   "cell_type": "markdown",
   "metadata": {},
   "source": [
    "# Represent the number of tweets based on gender? "
   ]
  },
  {
   "cell_type": "code",
   "execution_count": 259,
   "metadata": {},
   "outputs": [
    {
     "data": {
      "text/plain": [
       "151386     29\n",
       "2372591    24\n",
       "1          22\n",
       "3          21\n",
       "76289      18\n",
       "           ..\n",
       "9142        1\n",
       "9084        1\n",
       "6047        1\n",
       "4986        1\n",
       "100353      1\n",
       "Name: tweet_count, Length: 13605, dtype: int64"
      ]
     },
     "execution_count": 259,
     "metadata": {},
     "output_type": "execute_result"
    }
   ],
   "source": [
    "df['tweet_count'].value_counts()"
   ]
  },
  {
   "cell_type": "code",
   "execution_count": 260,
   "metadata": {},
   "outputs": [
    {
     "data": {
      "text/plain": [
       "0      18243\n",
       "1        476\n",
       "2         54\n",
       "3         17\n",
       "6          8\n",
       "5          7\n",
       "4          6\n",
       "7          5\n",
       "8          3\n",
       "10         2\n",
       "12         2\n",
       "11         2\n",
       "20         2\n",
       "19         1\n",
       "49         1\n",
       "330        1\n",
       "36         1\n",
       "153        1\n",
       "13         1\n",
       "23         1\n",
       "9          1\n",
       "15         1\n",
       "Name: retweet_count, dtype: int64"
      ]
     },
     "execution_count": 260,
     "metadata": {},
     "output_type": "execute_result"
    }
   ],
   "source": [
    "df['retweet_count'].value_counts()"
   ]
  },
  {
   "cell_type": "code",
   "execution_count": 261,
   "metadata": {},
   "outputs": [
    {
     "data": {
      "text/plain": [
       "<matplotlib.axes._subplots.AxesSubplot at 0x7fefe74fcac0>"
      ]
     },
     "execution_count": 261,
     "metadata": {},
     "output_type": "execute_result"
    },
    {
     "data": {
      "image/png": "[encoded data removed]",
      "text/plain": [
       "<Figure size 432x288 with 1 Axes>"
      ]
     },
     "metadata": {
      "needs_background": "light"
     },
     "output_type": "display_data"
    }
   ],
   "source": [
    "sns.barplot (x = 'gender', y = 'tweet_count',data = df)"
   ]
  },
  {
   "cell_type": "markdown",
   "metadata": {},
   "source": [
    "# Represent the number of retweets based on gender ?"
   ]
  },
  {
   "cell_type": "code",
   "execution_count": 262,
   "metadata": {},
   "outputs": [
    {
     "data": {
      "text/plain": [
       "<matplotlib.axes._subplots.AxesSubplot at 0x7fefe8ff1d90>"
      ]
     },
     "execution_count": 262,
     "metadata": {},
     "output_type": "execute_result"
    },
    {
     "data": {
      "image/png": "[encoded data removed]",
      "text/plain": [
       "<Figure size 432x288 with 1 Axes>"
      ]
     },
     "metadata": {
      "needs_background": "light"
     },
     "output_type": "display_data"
    }
   ],
   "source": [
    "sns.barplot (x = 'gender', y = 'retweet_count',data = df)"
   ]
  },
  {
   "cell_type": "markdown",
   "metadata": {},
   "source": [
    "# What is the number of females present ?"
   ]
  },
  {
   "cell_type": "code",
   "execution_count": 263,
   "metadata": {},
   "outputs": [
    {
     "data": {
      "image/png": "[encoded data removed]",
      "text/plain": [
       "<Figure size 432x288 with 1 Axes>"
      ]
     },
     "metadata": {},
     "output_type": "display_data"
    }
   ],
   "source": [
    "pd.value_counts(df['gender']).plot(kind=\"pie\", startangle = 90, shadow = True, radius = 1.2, autopct = '%1.1f%%')\n",
    "plt.suptitle('Categorical Plotting of gender')\n",
    "plt.xlabel(\"\")\n",
    "plt.ylabel(\"\")\n",
    "plt.show() "
   ]
  },
  {
   "cell_type": "code",
   "execution_count": 264,
   "metadata": {},
   "outputs": [],
   "source": [
    "# ANS is 35.6% females are present"
   ]
  },
  {
   "cell_type": "markdown",
   "metadata": {},
   "source": [
    "# Which year has the maximum tweets?"
   ]
  },
  {
   "cell_type": "code",
   "execution_count": 265,
   "metadata": {},
   "outputs": [
    {
     "data": {
      "image/png": "[encoded data removed]",
      "text/plain": [
       "<Figure size 432x288 with 1 Axes>"
      ]
     },
     "metadata": {
      "needs_background": "light"
     },
     "output_type": "display_data"
    }
   ],
   "source": [
    "pd.value_counts(df['created'].dt.year).sort_index().plot(kind=\"bar\")\n",
    "plt.suptitle('Categorical Plotting of Twitter popularity')\n",
    "plt.xlabel(\"Year\")\n",
    "plt.ylabel(\"Number of tweets\")\n",
    "plt.show() "
   ]
  },
  {
   "cell_type": "code",
   "execution_count": 266,
   "metadata": {},
   "outputs": [],
   "source": [
    "# ANS is 2014"
   ]
  },
  {
   "cell_type": "markdown",
   "metadata": {},
   "source": [
    "# At what hour minimum tweets are done?"
   ]
  },
  {
   "cell_type": "code",
   "execution_count": 267,
   "metadata": {},
   "outputs": [
    {
     "data": {
      "image/png": "[encoded data removed]",
      "text/plain": [
       "<Figure size 432x288 with 1 Axes>"
      ]
     },
     "metadata": {
      "needs_background": "light"
     },
     "output_type": "display_data"
    }
   ],
   "source": [
    "pd.value_counts(df['created'].dt.hour).sort_index().plot(kind=\"bar\")\n",
    "plt.suptitle('Categorical Plotting of tweet war at what hour')\n",
    "plt.xlabel(\"Hour Time\")\n",
    "plt.ylabel(\"Number of tweets\")\n",
    "plt.show() "
   ]
  },
  {
   "cell_type": "code",
   "execution_count": 268,
   "metadata": {},
   "outputs": [],
   "source": [
    "# ANS is at 1 am"
   ]
  },
  {
   "cell_type": "markdown",
   "metadata": {},
   "source": [
    "# Logistic Regression"
   ]
  },
  {
   "cell_type": "code",
   "execution_count": 269,
   "metadata": {},
   "outputs": [],
   "source": [
    "X=df[['gender:confidence','retweet_count','tweet_count','fav_number','profile_yn:confidence']].values\n",
    "Y=df[['gender']].values"
   ]
  },
  {
   "cell_type": "code",
   "execution_count": 270,
   "metadata": {},
   "outputs": [],
   "source": [
    "from sklearn.model_selection import train_test_split"
   ]
  },
  {
   "cell_type": "code",
   "execution_count": 271,
   "metadata": {},
   "outputs": [],
   "source": [
    "X_train,X_test,Y_train,Y_test=train_test_split(X,Y,train_size=0.8)"
   ]
  },
  {
   "cell_type": "code",
   "execution_count": 272,
   "metadata": {},
   "outputs": [],
   "source": [
    "from sklearn.linear_model import LogisticRegression\n",
    "lr=LogisticRegression()"
   ]
  },
  {
   "cell_type": "code",
   "execution_count": 273,
   "metadata": {},
   "outputs": [
    {
     "name": "stderr",
     "output_type": "stream",
     "text": [
      "/Users/preethamdp/opt/anaconda3/lib/python3.8/site-packages/sklearn/utils/validation.py:73: DataConversionWarning: A column-vector y was passed when a 1d array was expected. Please change the shape of y to (n_samples, ), for example using ravel().\n",
      "  return f(**kwargs)\n"
     ]
    },
    {
     "data": {
      "text/plain": [
       "LogisticRegression()"
      ]
     },
     "execution_count": 273,
     "metadata": {},
     "output_type": "execute_result"
    }
   ],
   "source": [
    "lr.fit(X_train,Y_train)"
   ]
  },
  {
   "cell_type": "code",
   "execution_count": 274,
   "metadata": {},
   "outputs": [],
   "source": [
    "y_predict=lr.predict(X_test)"
   ]
  },
  {
   "cell_type": "code",
   "execution_count": 275,
   "metadata": {},
   "outputs": [],
   "source": [
    "from sklearn.metrics import accuracy_score"
   ]
  },
  {
   "cell_type": "code",
   "execution_count": 276,
   "metadata": {},
   "outputs": [],
   "source": [
    "acc=accuracy_score(y_predict,Y_test)"
   ]
  },
  {
   "cell_type": "code",
   "execution_count": 277,
   "metadata": {},
   "outputs": [
    {
     "data": {
      "text/plain": [
       "0.4880573248407643"
      ]
     },
     "execution_count": 277,
     "metadata": {},
     "output_type": "execute_result"
    }
   ],
   "source": [
    "acc"
   ]
  },
  {
   "cell_type": "markdown",
   "metadata": {},
   "source": [
    "# Random Forest"
   ]
  },
  {
   "cell_type": "code",
   "execution_count": 278,
   "metadata": {},
   "outputs": [],
   "source": [
    "from sklearn.ensemble import RandomForestClassifier"
   ]
  },
  {
   "cell_type": "code",
   "execution_count": 279,
   "metadata": {},
   "outputs": [],
   "source": [
    "rfc=RandomForestClassifier()"
   ]
  },
  {
   "cell_type": "code",
   "execution_count": 280,
   "metadata": {},
   "outputs": [],
   "source": [
    "X_train,X_test,Y_train,Y_test=train_test_split(X,Y,train_size=0.8)"
   ]
  },
  {
   "cell_type": "code",
   "execution_count": 281,
   "metadata": {},
   "outputs": [
    {
     "name": "stderr",
     "output_type": "stream",
     "text": [
      "<ipython-input-281-5b04b14255e0>:1: DataConversionWarning: A column-vector y was passed when a 1d array was expected. Please change the shape of y to (n_samples,), for example using ravel().\n",
      "  rfc.fit(X_train,Y_train)\n"
     ]
    },
    {
     "data": {
      "text/plain": [
       "RandomForestClassifier()"
      ]
     },
     "execution_count": 281,
     "metadata": {},
     "output_type": "execute_result"
    }
   ],
   "source": [
    "rfc.fit(X_train,Y_train)"
   ]
  },
  {
   "cell_type": "code",
   "execution_count": 282,
   "metadata": {},
   "outputs": [],
   "source": [
    "Y_pred=rfc.predict(X_test)"
   ]
  },
  {
   "cell_type": "code",
   "execution_count": 283,
   "metadata": {},
   "outputs": [],
   "source": [
    "acc=accuracy_score(Y_pred,Y_test)"
   ]
  },
  {
   "cell_type": "code",
   "execution_count": 284,
   "metadata": {},
   "outputs": [
    {
     "data": {
      "text/plain": [
       "0.48487261146496813"
      ]
     },
     "execution_count": 284,
     "metadata": {},
     "output_type": "execute_result"
    }
   ],
   "source": [
    "acc"
   ]
  },
  {
   "cell_type": "markdown",
   "metadata": {},
   "source": [
    "# Naive Bayes-(NLP)"
   ]
  },
  {
   "cell_type": "code",
   "execution_count": 285,
   "metadata": {},
   "outputs": [],
   "source": [
    "import nltk"
   ]
  },
  {
   "cell_type": "code",
   "execution_count": 286,
   "metadata": {},
   "outputs": [],
   "source": [
    "from nltk.tokenize import word_tokenize"
   ]
  },
  {
   "cell_type": "code",
   "execution_count": 287,
   "metadata": {},
   "outputs": [
    {
     "name": "stderr",
     "output_type": "stream",
     "text": [
      "[nltk_data] Downloading package stopwords to\n",
      "[nltk_data]     /Users/preethamdp/nltk_data...\n",
      "[nltk_data]   Package stopwords is already up-to-date!\n"
     ]
    }
   ],
   "source": [
    "from nltk.corpus import stopwords\n",
    "nltk.download('stopwords')\n",
    "list_of_stopwords=list(stopwords.words('english'))\n",
    "\n",
    "\n"
   ]
  },
  {
   "cell_type": "code",
   "execution_count": 288,
   "metadata": {},
   "outputs": [
    {
     "data": {
      "text/plain": [
       "18836"
      ]
     },
     "execution_count": 288,
     "metadata": {},
     "output_type": "execute_result"
    }
   ],
   "source": [
    "df.shape[0]"
   ]
  },
  {
   "cell_type": "code",
   "execution_count": 289,
   "metadata": {},
   "outputs": [
    {
     "data": {
      "text/plain": [
       "18836"
      ]
     },
     "execution_count": 289,
     "metadata": {},
     "output_type": "execute_result"
    }
   ],
   "source": [
    "clean_words_list=[]\n",
    "for i in range(df.shape[0]):\n",
    "    current_desc=df['text_description'].values[i]\n",
    "    tokenized_words=word_tokenize(current_desc)\n",
    "    clean_words=''\n",
    "    for word in tokenized_words:\n",
    "        if not word in list_of_stopwords and word!='@' and word!='https' and word!='#' and word!='!' and word!=':' and word!='Ù' and word!='ã' and word!='_'  :\n",
    "            clean_words+= word + ' '\n",
    "    clean_words_list.append(clean_words)  \n",
    "        \n",
    "        \n",
    "len(clean_words_list)"
   ]
  },
  {
   "cell_type": "code",
   "execution_count": 290,
   "metadata": {},
   "outputs": [
    {
     "data": {
      "text/plain": [
       "0        robbie e responds to critics after win against...\n",
       "1         ûïit felt like they were my friends and i was...\n",
       "2        i absolutely adore when louis starts the songs...\n",
       "3        hi jordanspieth looking at the url do you use ...\n",
       "4        watching neighbours on sky catching up with th...\n",
       "                               ...                        \n",
       "20045    lookupondeath fine and i ll drink tea too i lo...\n",
       "20046    greg hardy you a good player and all but don t...\n",
       "20047    you can miss people and still never want to se...\n",
       "20048    bitemyapp i had noticed your tendency to pee o...\n",
       "20049    i think for my apush creative project i m goin...\n",
       "Name: text_description, Length: 18836, dtype: object"
      ]
     },
     "execution_count": 290,
     "metadata": {},
     "output_type": "execute_result"
    }
   ],
   "source": [
    "df['text_description']"
   ]
  },
  {
   "cell_type": "code",
   "execution_count": 291,
   "metadata": {},
   "outputs": [
    {
     "data": {
      "text/html": [
       "<div>\n",
       "<style scoped>\n",
       "    .dataframe tbody tr th:only-of-type {\n",
       "        vertical-align: middle;\n",
       "    }\n",
       "\n",
       "    .dataframe tbody tr th {\n",
       "        vertical-align: top;\n",
       "    }\n",
       "\n",
       "    .dataframe thead th {\n",
       "        text-align: right;\n",
       "    }\n",
       "</style>\n",
       "<table border=\"1\" class=\"dataframe\">\n",
       "  <thead>\n",
       "    <tr style=\"text-align: right;\">\n",
       "      <th></th>\n",
       "      <th>gender</th>\n",
       "      <th>gender:confidence</th>\n",
       "      <th>profile_yn:confidence</th>\n",
       "      <th>created</th>\n",
       "      <th>fav_number</th>\n",
       "      <th>retweet_count</th>\n",
       "      <th>tweet_count</th>\n",
       "      <th>text_description</th>\n",
       "    </tr>\n",
       "  </thead>\n",
       "  <tbody>\n",
       "    <tr>\n",
       "      <th>0</th>\n",
       "      <td>male</td>\n",
       "      <td>1.0000</td>\n",
       "      <td>1.0</td>\n",
       "      <td>2013-12-05 01:48:00</td>\n",
       "      <td>0</td>\n",
       "      <td>0</td>\n",
       "      <td>110964</td>\n",
       "      <td>robbie e responds to critics after win against...</td>\n",
       "    </tr>\n",
       "    <tr>\n",
       "      <th>1</th>\n",
       "      <td>male</td>\n",
       "      <td>1.0000</td>\n",
       "      <td>1.0</td>\n",
       "      <td>2012-10-01 13:51:00</td>\n",
       "      <td>68</td>\n",
       "      <td>0</td>\n",
       "      <td>7471</td>\n",
       "      <td>ûïit felt like they were my friends and i was...</td>\n",
       "    </tr>\n",
       "    <tr>\n",
       "      <th>2</th>\n",
       "      <td>male</td>\n",
       "      <td>0.6625</td>\n",
       "      <td>1.0</td>\n",
       "      <td>2014-11-28 11:30:00</td>\n",
       "      <td>7696</td>\n",
       "      <td>1</td>\n",
       "      <td>5617</td>\n",
       "      <td>i absolutely adore when louis starts the songs...</td>\n",
       "    </tr>\n",
       "    <tr>\n",
       "      <th>3</th>\n",
       "      <td>male</td>\n",
       "      <td>1.0000</td>\n",
       "      <td>1.0</td>\n",
       "      <td>2009-06-11 22:39:00</td>\n",
       "      <td>202</td>\n",
       "      <td>0</td>\n",
       "      <td>1693</td>\n",
       "      <td>hi jordanspieth looking at the url do you use ...</td>\n",
       "    </tr>\n",
       "    <tr>\n",
       "      <th>4</th>\n",
       "      <td>female</td>\n",
       "      <td>1.0000</td>\n",
       "      <td>1.0</td>\n",
       "      <td>2014-04-16 13:23:00</td>\n",
       "      <td>37318</td>\n",
       "      <td>0</td>\n",
       "      <td>31462</td>\n",
       "      <td>watching neighbours on sky catching up with th...</td>\n",
       "    </tr>\n",
       "    <tr>\n",
       "      <th>...</th>\n",
       "      <td>...</td>\n",
       "      <td>...</td>\n",
       "      <td>...</td>\n",
       "      <td>...</td>\n",
       "      <td>...</td>\n",
       "      <td>...</td>\n",
       "      <td>...</td>\n",
       "      <td>...</td>\n",
       "    </tr>\n",
       "    <tr>\n",
       "      <th>20045</th>\n",
       "      <td>female</td>\n",
       "      <td>1.0000</td>\n",
       "      <td>1.0</td>\n",
       "      <td>2015-08-05 21:16:00</td>\n",
       "      <td>302</td>\n",
       "      <td>0</td>\n",
       "      <td>783</td>\n",
       "      <td>lookupondeath fine and i ll drink tea too i lo...</td>\n",
       "    </tr>\n",
       "    <tr>\n",
       "      <th>20046</th>\n",
       "      <td>male</td>\n",
       "      <td>1.0000</td>\n",
       "      <td>1.0</td>\n",
       "      <td>2012-08-15 21:17:00</td>\n",
       "      <td>2513</td>\n",
       "      <td>0</td>\n",
       "      <td>13523</td>\n",
       "      <td>greg hardy you a good player and all but don t...</td>\n",
       "    </tr>\n",
       "    <tr>\n",
       "      <th>20047</th>\n",
       "      <td>male</td>\n",
       "      <td>1.0000</td>\n",
       "      <td>1.0</td>\n",
       "      <td>2012-09-03 01:17:00</td>\n",
       "      <td>50</td>\n",
       "      <td>0</td>\n",
       "      <td>26419</td>\n",
       "      <td>you can miss people and still never want to se...</td>\n",
       "    </tr>\n",
       "    <tr>\n",
       "      <th>20048</th>\n",
       "      <td>female</td>\n",
       "      <td>0.8489</td>\n",
       "      <td>1.0</td>\n",
       "      <td>2012-11-06 23:46:00</td>\n",
       "      <td>70804</td>\n",
       "      <td>0</td>\n",
       "      <td>56073</td>\n",
       "      <td>bitemyapp i had noticed your tendency to pee o...</td>\n",
       "    </tr>\n",
       "    <tr>\n",
       "      <th>20049</th>\n",
       "      <td>female</td>\n",
       "      <td>1.0000</td>\n",
       "      <td>1.0</td>\n",
       "      <td>2014-04-14 17:22:00</td>\n",
       "      <td>3348</td>\n",
       "      <td>0</td>\n",
       "      <td>2922</td>\n",
       "      <td>i think for my apush creative project i m goin...</td>\n",
       "    </tr>\n",
       "  </tbody>\n",
       "</table>\n",
       "<p>18836 rows × 8 columns</p>\n",
       "</div>"
      ],
      "text/plain": [
       "       gender  gender:confidence  profile_yn:confidence             created  \\\n",
       "0        male             1.0000                    1.0 2013-12-05 01:48:00   \n",
       "1        male             1.0000                    1.0 2012-10-01 13:51:00   \n",
       "2        male             0.6625                    1.0 2014-11-28 11:30:00   \n",
       "3        male             1.0000                    1.0 2009-06-11 22:39:00   \n",
       "4      female             1.0000                    1.0 2014-04-16 13:23:00   \n",
       "...       ...                ...                    ...                 ...   \n",
       "20045  female             1.0000                    1.0 2015-08-05 21:16:00   \n",
       "20046    male             1.0000                    1.0 2012-08-15 21:17:00   \n",
       "20047    male             1.0000                    1.0 2012-09-03 01:17:00   \n",
       "20048  female             0.8489                    1.0 2012-11-06 23:46:00   \n",
       "20049  female             1.0000                    1.0 2014-04-14 17:22:00   \n",
       "\n",
       "       fav_number  retweet_count  tweet_count  \\\n",
       "0               0              0       110964   \n",
       "1              68              0         7471   \n",
       "2            7696              1         5617   \n",
       "3             202              0         1693   \n",
       "4           37318              0        31462   \n",
       "...           ...            ...          ...   \n",
       "20045         302              0          783   \n",
       "20046        2513              0        13523   \n",
       "20047          50              0        26419   \n",
       "20048       70804              0        56073   \n",
       "20049        3348              0         2922   \n",
       "\n",
       "                                        text_description  \n",
       "0      robbie e responds to critics after win against...  \n",
       "1       ûïit felt like they were my friends and i was...  \n",
       "2      i absolutely adore when louis starts the songs...  \n",
       "3      hi jordanspieth looking at the url do you use ...  \n",
       "4      watching neighbours on sky catching up with th...  \n",
       "...                                                  ...  \n",
       "20045  lookupondeath fine and i ll drink tea too i lo...  \n",
       "20046  greg hardy you a good player and all but don t...  \n",
       "20047  you can miss people and still never want to se...  \n",
       "20048  bitemyapp i had noticed your tendency to pee o...  \n",
       "20049  i think for my apush creative project i m goin...  \n",
       "\n",
       "[18836 rows x 8 columns]"
      ]
     },
     "execution_count": 291,
     "metadata": {},
     "output_type": "execute_result"
    }
   ],
   "source": [
    "df"
   ]
  },
  {
   "cell_type": "code",
   "execution_count": 292,
   "metadata": {},
   "outputs": [],
   "source": [
    "from sklearn.feature_extraction.text import CountVectorizer"
   ]
  },
  {
   "cell_type": "code",
   "execution_count": 293,
   "metadata": {},
   "outputs": [],
   "source": [
    "cv=CountVectorizer()"
   ]
  },
  {
   "cell_type": "code",
   "execution_count": 294,
   "metadata": {},
   "outputs": [],
   "source": [
    "sparse_matrix=cv.fit_transform(df['text_description'])"
   ]
  },
  {
   "cell_type": "code",
   "execution_count": 295,
   "metadata": {},
   "outputs": [
    {
     "data": {
      "text/plain": [
       "(18836, 57232)"
      ]
     },
     "execution_count": 295,
     "metadata": {},
     "output_type": "execute_result"
    }
   ],
   "source": [
    "sparse_matrix.shape"
   ]
  },
  {
   "cell_type": "code",
   "execution_count": 296,
   "metadata": {},
   "outputs": [],
   "source": [
    "X_train,X_test,Y_train,Y_test=train_test_split(sparse_matrix,df[['gender']])"
   ]
  },
  {
   "cell_type": "code",
   "execution_count": 297,
   "metadata": {},
   "outputs": [],
   "source": [
    "from sklearn.naive_bayes import MultinomialNB"
   ]
  },
  {
   "cell_type": "code",
   "execution_count": 298,
   "metadata": {},
   "outputs": [],
   "source": [
    "nb=MultinomialNB()"
   ]
  },
  {
   "cell_type": "code",
   "execution_count": 299,
   "metadata": {},
   "outputs": [
    {
     "name": "stderr",
     "output_type": "stream",
     "text": [
      "/Users/preethamdp/opt/anaconda3/lib/python3.8/site-packages/sklearn/utils/validation.py:73: DataConversionWarning: A column-vector y was passed when a 1d array was expected. Please change the shape of y to (n_samples, ), for example using ravel().\n",
      "  return f(**kwargs)\n"
     ]
    },
    {
     "data": {
      "text/plain": [
       "MultinomialNB()"
      ]
     },
     "execution_count": 299,
     "metadata": {},
     "output_type": "execute_result"
    }
   ],
   "source": [
    "nb.fit(X_train,Y_train)"
   ]
  },
  {
   "cell_type": "code",
   "execution_count": 300,
   "metadata": {},
   "outputs": [],
   "source": [
    "Y_pred=nb.predict(X_test)"
   ]
  },
  {
   "cell_type": "code",
   "execution_count": 301,
   "metadata": {},
   "outputs": [],
   "source": [
    "acc=accuracy_score(Y_pred,Y_test)"
   ]
  },
  {
   "cell_type": "code",
   "execution_count": 302,
   "metadata": {},
   "outputs": [
    {
     "data": {
      "text/plain": [
       "0.6186026757273306"
      ]
     },
     "execution_count": 302,
     "metadata": {},
     "output_type": "execute_result"
    }
   ],
   "source": [
    "acc"
   ]
  }
 ],
 "metadata": {
  "kernelspec": {
   "display_name": "Python 3",
   "language": "python",
   "name": "python3"
  },
  "language_info": {
   "codemirror_mode": {
    "name": "ipython",
    "version": 3
   },
   "file_extension": ".py",
   "mimetype": "text/x-python",
   "name": "python",
   "nbconvert_exporter": "python",
   "pygments_lexer": "ipython3",
   "version": "3.8.3"
  }
 },
 "nbformat": 4,
 "nbformat_minor": 4
}
